{
 "cells": [
  {
   "cell_type": "code",
   "execution_count": 13,
   "metadata": {},
   "outputs": [
    {
     "data": {
      "text/plain": [
       "PIL.Image.Image"
      ]
     },
     "execution_count": 13,
     "metadata": {},
     "output_type": "execute_result"
    }
   ],
   "source": [
    "import numpy as np\n",
    "import cv2\n",
    "from PIL import ImageGrab \n",
    "\n",
    "image=ImageGrab.grab() #Capture your screen and save in variable.\n",
    "type(image) #As image type is Image so we have to convert it into array so that machine can understand."
   ]
  },
  {
   "cell_type": "code",
   "execution_count": 14,
   "metadata": {},
   "outputs": [],
   "source": [
    "Videoformat= cv2.VideoWriter_fourcc(*'XVID') #In which format we need file you can use mp4v,XVID,etc.\n",
    "vid=cv2.VideoWriter('Output1.avi',Videoformat, 5, (1366,768)) \n",
    "#Output1.avi = Video file will be save by this name\n",
    "#Videoformat\n",
    "#5 = Frame per sec\n",
    "#1366,768 = Screen Resolution of your laptop/computer to capture."
   ]
  },
  {
   "cell_type": "code",
   "execution_count": 15,
   "metadata": {},
   "outputs": [],
   "source": [
    "while True:\n",
    "    image=ImageGrab.grab() #Store screen image\n",
    "    image_np=np.array(image) #Convert image into array\n",
    "    frame=cv2.cvtColor(image_np, cv2.COLOR_BGR2RGB) #Output shows us in BGR so we convert it into RGB\n",
    "    cv2.imshow(\"Screen_Recording\",frame)\n",
    "    vid.write(frame)\n",
    "    if cv2.waitKey(1) ==27:\n",
    "        break     \n",
    "vid.release()        \n",
    "cv2.destroyAllWindows()"
   ]
  },
  {
   "cell_type": "code",
   "execution_count": null,
   "metadata": {},
   "outputs": [],
   "source": []
  },
  {
   "cell_type": "code",
   "execution_count": null,
   "metadata": {},
   "outputs": [],
   "source": []
  }
 ],
 "metadata": {
  "kernelspec": {
   "display_name": "Python 3",
   "language": "python",
   "name": "python3"
  },
  "language_info": {
   "codemirror_mode": {
    "name": "ipython",
    "version": 3
   },
   "file_extension": ".py",
   "mimetype": "text/x-python",
   "name": "python",
   "nbconvert_exporter": "python",
   "pygments_lexer": "ipython3",
   "version": "3.7.6"
  }
 },
 "nbformat": 4,
 "nbformat_minor": 4
}
